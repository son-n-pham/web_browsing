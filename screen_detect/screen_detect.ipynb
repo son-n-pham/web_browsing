{
 "cells": [
  {
   "cell_type": "code",
   "execution_count": 16,
   "metadata": {},
   "outputs": [
    {
     "name": "stdout",
     "output_type": "stream",
     "text": [
      "{}\n",
      "[]\n"
     ]
    }
   ],
   "source": [
    "import cv2\n",
    "import numpy as np\n",
    "\n",
    "def locate_input_box(image_path):\n",
    "    # Load the screenshot image\n",
    "    img = cv2.imread(image_path, cv2.IMREAD_COLOR)\n",
    "    \n",
    "    # Convert the image to grayscale for text detection\n",
    "    gray_img = cv2.cvtColor(img, cv2.COLOR_BGR2GRAY)\n",
    "    \n",
    "    # Create a template image with the text \"Send a message\"\n",
    "    template_text = cv2.putText(np.zeros((50, 300), dtype=np.uint8), \n",
    "                                \"Send a message\", (5, 30), \n",
    "                                cv2.FONT_HERSHEY_SIMPLEX, 0.9, 255, 2)\n",
    "    \n",
    "    # Use template matching to detect the input box with the text\n",
    "    result = cv2.matchTemplate(gray_img, template_text, cv2.TM_CCOEFF_NORMED)\n",
    "    threshold = 0.8\n",
    "    locations = np.where(result >= threshold)\n",
    "    points = list(zip(*locations[::-1]))\n",
    "    \n",
    "    # Extracting coordinates of the detected region\n",
    "    if len(points) > 0:\n",
    "        w, h = template_text.shape[::-1]\n",
    "        top_left = points[0]\n",
    "        bottom_right = (top_left[0] + w, top_left[1] + h)\n",
    "        middle_point = ((top_left[0] + bottom_right[0]) // 2, \n",
    "                        (top_left[1] + bottom_right[1]) // 2)\n",
    "\n",
    "        coordinates = {\n",
    "            \"top_left\": top_left,\n",
    "            \"bottom_right\": bottom_right,\n",
    "            \"middle_point\": middle_point\n",
    "        }\n",
    "    else:\n",
    "        coordinates = {}\n",
    "\n",
    "    return coordinates, points\n",
    "\n",
    "# Using the function to get coordinates\n",
    "image_path = './screenshot.png'\n",
    "coordinates, points = locate_input_box(image_path)\n",
    "print(coordinates)\n",
    "print(points)"
   ]
  },
  {
   "cell_type": "code",
   "execution_count": 4,
   "metadata": {},
   "outputs": [
    {
     "name": "stdout",
     "output_type": "stream",
     "text": [
      "screen_detect.ipynb  screenshot.png\n"
     ]
    }
   ],
   "source": [
    "!ls"
   ]
  },
  {
   "cell_type": "code",
   "execution_count": null,
   "metadata": {},
   "outputs": [],
   "source": []
  }
 ],
 "metadata": {
  "kernelspec": {
   "display_name": "deep_learning",
   "language": "python",
   "name": "python3"
  },
  "language_info": {
   "codemirror_mode": {
    "name": "ipython",
    "version": 3
   },
   "file_extension": ".py",
   "mimetype": "text/x-python",
   "name": "python",
   "nbconvert_exporter": "python",
   "pygments_lexer": "ipython3",
   "version": "3.9.18"
  }
 },
 "nbformat": 4,
 "nbformat_minor": 2
}
